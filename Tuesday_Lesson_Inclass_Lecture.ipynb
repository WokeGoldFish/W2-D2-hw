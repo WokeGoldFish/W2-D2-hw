{
 "cells": [
  {
   "cell_type": "markdown",
   "metadata": {},
   "source": [
    "# Functions, Scoping, Data Collections 1 & List Comprehensions"
   ]
  },
  {
   "cell_type": "markdown",
   "metadata": {},
   "source": [
    "## Tasks Today:\n",
    "\n",
    "<i>Monday Additions (or, and ... if statements)</i>\n",
    "\n",
    "1) String Manipulation <br>\n",
    " &nbsp;&nbsp;&nbsp;&nbsp; a) strip() <br>\n",
    " &nbsp;&nbsp;&nbsp;&nbsp; b) title() <br>\n",
    "2) Working With Lists <br>\n",
    " &nbsp;&nbsp;&nbsp;&nbsp; a) min() <br>\n",
    " &nbsp;&nbsp;&nbsp;&nbsp; b) max() <br>\n",
    " &nbsp;&nbsp;&nbsp;&nbsp; c) sum() <br>\n",
    " &nbsp;&nbsp;&nbsp;&nbsp; d) sort() <br>\n",
    " &nbsp;&nbsp;&nbsp;&nbsp; e) Copying a List <br>\n",
    " &nbsp;&nbsp;&nbsp;&nbsp; f) 'in' keyword <br>\n",
    " &nbsp;&nbsp;&nbsp;&nbsp; g) 'not in' keyword <br>\n",
    " &nbsp;&nbsp;&nbsp;&nbsp; i) Checking an Empty List <br>\n",
    " &nbsp;&nbsp;&nbsp;&nbsp; j) Removing Instances with a Loop <br>\n",
    "3) List Comprehensions <br>\n",
    "4) Tuples <br>\n",
    " &nbsp;&nbsp;&nbsp;&nbsp; a) sorted() <br>\n",
    "5) Functions <br>\n",
    " &nbsp;&nbsp;&nbsp;&nbsp; a) User-Defined vs. Built-In Functions <br>\n",
    " &nbsp;&nbsp;&nbsp;&nbsp; b) Accepting Parameters <br>\n",
    " &nbsp;&nbsp;&nbsp;&nbsp; c) Default Parameters <br>\n",
    " &nbsp;&nbsp;&nbsp;&nbsp; d) Making an Argument Optional <br>\n",
    " &nbsp;&nbsp;&nbsp;&nbsp; e) Keyword Arguments <br>\n",
    " &nbsp;&nbsp;&nbsp;&nbsp; f) Returning Values <br>\n",
    " &nbsp;&nbsp;&nbsp;&nbsp; g) *args <br>\n",
    " &nbsp;&nbsp;&nbsp;&nbsp; h) Docstring <br>\n",
    " &nbsp;&nbsp;&nbsp;&nbsp; i) Using a User Function in a Loop <br>\n",
    "6) Scope"
   ]
  },
  {
   "cell_type": "markdown",
   "metadata": {},
   "source": [
    "### String Manipulation"
   ]
  },
  {
   "cell_type": "markdown",
   "metadata": {},
   "source": [
    "##### .lstrip()"
   ]
  },
  {
   "cell_type": "code",
   "execution_count": 1,
   "metadata": {},
   "outputs": [
    {
     "name": "stdout",
     "output_type": "stream",
     "text": [
      "jack sparrow\n"
     ]
    }
   ],
   "source": [
    "# string.lstrip() strips everything to the left\n",
    "\n",
    "name = '          jack sparrow'\n",
    "\n",
    "x=name.lstrip()\n",
    "print(x)\n",
    "\n",
    "\n"
   ]
  },
  {
   "cell_type": "markdown",
   "metadata": {},
   "source": [
    "##### .rstrip()"
   ]
  },
  {
   "cell_type": "code",
   "execution_count": null,
   "metadata": {},
   "outputs": [],
   "source": [
    "# string.rstrip() -- same but for the right side --- space and strings alike\n"
   ]
  },
  {
   "cell_type": "markdown",
   "metadata": {},
   "source": [
    "##### .strip()"
   ]
  },
  {
   "cell_type": "code",
   "execution_count": null,
   "metadata": {},
   "outputs": [],
   "source": [
    "# string.strip() -- removes \"\" and spaces from both sides\n",
    "\n"
   ]
  },
  {
   "cell_type": "markdown",
   "metadata": {},
   "source": [
    "##### .title()"
   ]
  },
  {
   "cell_type": "code",
   "execution_count": 2,
   "metadata": {},
   "outputs": [
    {
     "name": "stdout",
     "output_type": "stream",
     "text": [
      "Joe Biden\n"
     ]
    }
   ],
   "source": [
    "# string.title()\n",
    "president = \"joe biden\"\n",
    "print(president.title())"
   ]
  },
  {
   "cell_type": "markdown",
   "metadata": {},
   "source": [
    "### String Exercise <br>\n",
    "<p>Strip all white space and capitalize every name in the list given</p>"
   ]
  },
  {
   "cell_type": "code",
   "execution_count": 13,
   "metadata": {},
   "outputs": [
    {
     "name": "stdout",
     "output_type": "stream",
     "text": [
      "['Connor']\n",
      "['Connor', 'Max']\n",
      "['Connor', 'Max', 'Evan']\n",
      "['Connor', 'Max', 'Evan', 'Jordan']\n",
      "------------\n",
      "['Connor']\n",
      "['Connor', 'Max']\n",
      "['Connor', 'Max', 'Evan']\n",
      "['Connor', 'Max', 'Evan', 'Jordan']\n"
     ]
    }
   ],
   "source": [
    "names = ['    coNNor', 'max', ' EVan ', 'JORDAN']\n",
    "# HINT: You will need to use a for loop for iteration\n",
    "new_names = []\n",
    "\n",
    "for names_1 in names:\n",
    "    names_1 = names_1.strip()\n",
    "    names_1 = names_1.title()\n",
    "    new_names.append(names_1)\n",
    "    \n",
    "    print(new_names)\n",
    "print('------------')  \n",
    "new_names1=[]\n",
    "for names_1 in names:\n",
    "    names_1 = names_1.strip().title()\n",
    "    new_names1.append(names_1)\n",
    "    \n",
    "    print(new_names1)\n",
    "    \n",
    "\n"
   ]
  },
  {
   "cell_type": "markdown",
   "metadata": {},
   "source": [
    "### Working With Lists"
   ]
  },
  {
   "cell_type": "markdown",
   "metadata": {},
   "source": [
    "##### min()"
   ]
  },
  {
   "cell_type": "code",
   "execution_count": 24,
   "metadata": {},
   "outputs": [
    {
     "name": "stdout",
     "output_type": "stream",
     "text": [
      "1\n",
      "[1, 21, 32, 34, 5, 63, 7]\n"
     ]
    }
   ],
   "source": [
    "# min(list)\n",
    "\n",
    "num = [1,21,32,34,5,63,7]\n",
    "small = min(num)\n",
    "print(small)\n",
    "print(num)"
   ]
  },
  {
   "cell_type": "markdown",
   "metadata": {},
   "source": [
    "##### max()"
   ]
  },
  {
   "cell_type": "code",
   "execution_count": 23,
   "metadata": {},
   "outputs": [
    {
     "name": "stdout",
     "output_type": "stream",
     "text": [
      "63\n",
      "[1, 21, 32, 34, 5, 63, 7]\n"
     ]
    }
   ],
   "source": [
    "# max(list)\n",
    "\n",
    "num = [1,21,32,34,5,63,7]\n",
    "lg = max(num)\n",
    "print(lg)\n",
    "\n",
    "print(num)"
   ]
  },
  {
   "cell_type": "markdown",
   "metadata": {},
   "source": [
    "##### sum()"
   ]
  },
  {
   "cell_type": "code",
   "execution_count": 22,
   "metadata": {},
   "outputs": [
    {
     "name": "stdout",
     "output_type": "stream",
     "text": [
      "163\n",
      "[1, 21, 32, 34, 5, 63, 7]\n"
     ]
    }
   ],
   "source": [
    "# sum(list)\n",
    "num = [1,21,32,34,5,63,7]\n",
    "total = sum(num)\n",
    "print(total)\n",
    "\n",
    "print(num)"
   ]
  },
  {
   "cell_type": "markdown",
   "metadata": {},
   "source": [
    "##### sorted()"
   ]
  },
  {
   "cell_type": "code",
   "execution_count": 25,
   "metadata": {},
   "outputs": [
    {
     "name": "stdout",
     "output_type": "stream",
     "text": [
      "[1, 21, 32, 34, 5, 63, 7]\n",
      "[1, 5, 7, 21, 32, 34, 63]\n",
      "[1, 21, 32, 34, 5, 63, 7] original list\n"
     ]
    }
   ],
   "source": [
    "# sorted(list)\n",
    "print(num)\n",
    "\n",
    "output= sorted(num)\n",
    "\n",
    "print(output)\n",
    "print(num, \"original list\")\n"
   ]
  },
  {
   "cell_type": "markdown",
   "metadata": {},
   "source": [
    "##### .sort() <br>\n",
    "<p>Difference between sort and sorted, is that sorted doesn't change original list it returns a copy, while .sort changes the original list</p>"
   ]
  },
  {
   "cell_type": "code",
   "execution_count": 26,
   "metadata": {},
   "outputs": [
    {
     "name": "stdout",
     "output_type": "stream",
     "text": [
      "[1, 21, 32, 34, 5, 63, 7]\n",
      "None\n",
      "[1, 5, 7, 21, 32, 34, 63] original list\n"
     ]
    }
   ],
   "source": [
    "# list.sort()\n",
    "\n",
    "print(num)\n",
    "\n",
    "output= num.sort()\n",
    "\n",
    "print(output)\n",
    "print(num, \"original list\")\n",
    "\n",
    "# use sorted when you don't want to alter original list, use .sort() when you want to alter original list"
   ]
  },
  {
   "cell_type": "markdown",
   "metadata": {},
   "source": [
    "##### Copying a List"
   ]
  },
  {
   "cell_type": "code",
   "execution_count": 27,
   "metadata": {},
   "outputs": [
    {
     "name": "stdout",
     "output_type": "stream",
     "text": [
      "[1, 5, 7, 21, 32, 34, 63]\n",
      "[1, 5, 7, 21, 32, 34, 63]\n",
      "False\n"
     ]
    }
   ],
   "source": [
    "# [:] copies a list, doesn't alter original\n",
    "list_1 = num[:]\n",
    "\n",
    "print(list_1)\n",
    "print(num)\n",
    "print(list_1 is num)\n"
   ]
  },
  {
   "cell_type": "markdown",
   "metadata": {},
   "source": [
    "##### 'in' keyword"
   ]
  },
  {
   "cell_type": "code",
   "execution_count": 29,
   "metadata": {},
   "outputs": [
    {
     "name": "stdout",
     "output_type": "stream",
     "text": [
      "Coding Summint Instructor\n",
      "----------\n",
      "Not an Instructor\n"
     ]
    }
   ],
   "source": [
    "cs_teachers = ['Shoha', \"Shinha\", \"Ivan\", \"Daniel\", \"Adriel\"]\n",
    "\n",
    "if \"Ivan\" in cs_teachers:\n",
    "    print(\"Coding Summint Instructor\")\n",
    "else:\n",
    "    print(\"Not an Instructor\")\n",
    "    \n",
    "print(\"----------\")\n",
    "\n",
    "\n",
    "if \"Frankie\" in cs_teachers:\n",
    "    print(\"Coding Summint Instructor\")\n",
    "else:\n",
    "    print(\"Not an Instructor\")"
   ]
  },
  {
   "cell_type": "markdown",
   "metadata": {},
   "source": [
    "##### 'not in' keyword"
   ]
  },
  {
   "cell_type": "code",
   "execution_count": 30,
   "metadata": {},
   "outputs": [
    {
     "name": "stdout",
     "output_type": "stream",
     "text": [
      "Not an Instructor\n"
     ]
    }
   ],
   "source": [
    "if \"Frankie\" not in cs_teachers:\n",
    "    print(\"Not an Instructor\")\n"
   ]
  },
  {
   "cell_type": "markdown",
   "metadata": {},
   "source": [
    "##### Checking an Empty List"
   ]
  },
  {
   "cell_type": "code",
   "execution_count": 31,
   "metadata": {},
   "outputs": [
    {
     "name": "stdout",
     "output_type": "stream",
     "text": [
      "empty\n"
     ]
    }
   ],
   "source": [
    "# if l_1: or if l_1 = []\n",
    "l2=[]\n",
    "\n",
    "if not l2:\n",
    "    print('empty')\n",
    "    \n"
   ]
  },
  {
   "cell_type": "markdown",
   "metadata": {},
   "source": [
    "##### Removing Instances with a Loop"
   ]
  },
  {
   "cell_type": "code",
   "execution_count": 37,
   "metadata": {},
   "outputs": [
    {
     "ename": "SyntaxError",
     "evalue": "invalid syntax (2946482025.py, line 10)",
     "output_type": "error",
     "traceback": [
      "\u001b[1;36m  Input \u001b[1;32mIn [37]\u001b[1;36m\u001b[0m\n\u001b[1;33m    if name == 'Evan'\u001b[0m\n\u001b[1;37m                     ^\u001b[0m\n\u001b[1;31mSyntaxError\u001b[0m\u001b[1;31m:\u001b[0m invalid syntax\n"
     ]
    }
   ],
   "source": [
    "# while, remove\n",
    "names = [\"Conner\", \"Shoha\", \"Max\", \"Evan\", \"Rob\", \"Evan\"]\n",
    "\n",
    "while 'Evan' in names:\n",
    "    names.remove('Evan')\n",
    "print(names)\n",
    "\n",
    "### whn you are changing/modifying the list you are looping through --- for loop not recommended\n",
    "for name in names:\n",
    "    if name == 'Evan'\n",
    "        names.remove('Evan')\n",
    "print(names)"
   ]
  },
  {
   "cell_type": "markdown",
   "metadata": {},
   "source": [
    "### List Exercise <br>\n",
    "<p>Remove all duplicates<br><b>Extra: Create a program that will remove any duplicates from a given list</b></p>"
   ]
  },
  {
   "cell_type": "code",
   "execution_count": 5,
   "metadata": {},
   "outputs": [
    {
     "name": "stdout",
     "output_type": "stream",
     "text": [
      "['connor', 'bob', 'evan', 'max', 2, 3, 4, 'kevin']\n",
      "['connor', 'bob', 'evan', 'max', 2, 3, 4, 'kevin']\n"
     ]
    }
   ],
   "source": [
    "names = ['connor', 'connor', 'bob', 'connor', 'evan', 'max', 'evan', 2, 2, 2, 3, 3, 4, 'bob', 'kevin']\n",
    "# Hint 1: You will need an append\n",
    "# Hint 2: Using an empty list will make life easier\n",
    "\n",
    "def noDupes():\n",
    "\n",
    "    no_dupes = []\n",
    "    for name in names:\n",
    "        if name not in no_dupes:\n",
    "            no_dupes.append(name)\n",
    "    return no_dupes\n",
    "names_2 = [1,2,3,2,3,4]\n",
    "print(noDupes())\n",
    "print(noDupes())\n"
   ]
  },
  {
   "cell_type": "markdown",
   "metadata": {},
   "source": [
    "### List Comprehensions <br>\n",
    "<p>Creating a quickly generated list to work with<br>*result*  = [*transform*    *iteration*         *filter*     ]</p>"
   ]
  },
  {
   "cell_type": "markdown",
   "metadata": {},
   "source": [
    "##### In a list comprehension we have a few pieces:\n",
    "1. The first is the counter/ variable - IN this the variable is x\n",
    "2. then we have a transform for the variable\n",
    "3. The finale part of a list comp is called the condition\n",
    "\n",
    "```python\n",
    "    [variable, transform, condition]\n",
    "```"
   ]
  },
  {
   "cell_type": "code",
   "execution_count": 62,
   "metadata": {},
   "outputs": [
    {
     "name": "stdout",
     "output_type": "stream",
     "text": [
      "[0, 1, 2, 3, 4, 5, 6, 7, 8, 9, 10, 11, 12, 13, 14, 15, 16, 17, 18, 19, 20, 21, 22, 23, 24, 25, 26, 27, 28, 29]\n",
      "[0, 2, 4, 6, 8, 10, 12, 14, 16, 18, 20, 22, 24, 26, 28]\n"
     ]
    }
   ],
   "source": [
    "# number comprehension\n",
    "\n",
    "# With a regular for loop\n",
    "num =[]\n",
    "\n",
    "for i in range(30):\n",
    "    num.append(i)\n",
    "\n",
    "print(num)\n",
    "\n",
    "# IN a list comprehension we have a few pieces:\n",
    "# The first is the counter/ variable - IN this the variable is x\n",
    "# Then we have a transform for the variable \n",
    "# The finale part of a list comp is called the condition\n",
    "#[variable, transform, condition\n",
    "\n",
    "num_lc = [i for i in range(30) if i%2 == 0]\n",
    "print(num_lc)\n",
    "\n",
    "\n"
   ]
  },
  {
   "cell_type": "markdown",
   "metadata": {},
   "source": [
    "There are a few benefits to using List comprehensions. The most obvious would be that we now have shorter code to work with instead of using 3+ lines of code in the for loop variant.\n",
    "\n",
    "Another is an added benefit to memory usage. Since the list's memory is allocated first before adding elements to it, we don't have to resize the list once we add elements to it.\n",
    "\n",
    "Lastly, list comprehensions are considered the \"pythonic\" way to write code by the PEP8 standards (Python Style Guide)"
   ]
  },
  {
   "cell_type": "code",
   "execution_count": 64,
   "metadata": {},
   "outputs": [
    {
     "name": "stdout",
     "output_type": "stream",
     "text": [
      "[1, 4, 9, 16, 25]\n",
      "[1, 4, 9, 16, 25]\n"
     ]
    }
   ],
   "source": [
    "# square number comprehension\n",
    "\n",
    "squares = []\n",
    "\n",
    "for num in [1,2,3,4,5]:\n",
    "    squares.append(num**2)\n",
    "print(squares)\n",
    "\n",
    "#listComprehension\n",
    "\n",
    "squares_lc = [num**2 for num in range(1,6)]\n",
    "print(squares_lc)"
   ]
  },
  {
   "cell_type": "code",
   "execution_count": 69,
   "metadata": {},
   "outputs": [
    {
     "name": "stdout",
     "output_type": "stream",
     "text": [
      "['B', 'M', 'e', 'A', 'R']\n",
      "['B', 'M', 'e', 'A', 'R']\n"
     ]
    }
   ],
   "source": [
    "# string comprehension\n",
    "\n",
    "\n",
    "names = ['Bran','Max','Evan','Amanda','Rob']\n",
    "first_char = [];\n",
    "for name in names:\n",
    "    if name[0] == 'E':\n",
    "        first_char.append(name[0].lower())\n",
    "    else:\n",
    "        first_char.append(name[0])\n",
    "print(first_char)\n",
    "\n",
    "first_char_lc =[name[0].lower() if name[0] == 'E' else name[0] for name in names]\n",
    "print(first_char_lc)"
   ]
  },
  {
   "cell_type": "code",
   "execution_count": null,
   "metadata": {},
   "outputs": [],
   "source": [
    "terninary operator"
   ]
  },
  {
   "cell_type": "code",
   "execution_count": null,
   "metadata": {},
   "outputs": [],
   "source": []
  },
  {
   "cell_type": "markdown",
   "metadata": {},
   "source": [
    "### Tuples <br>\n",
    "<p><b>Defined as an immutable list</b></p><br>Seperated by commas using parenthesis"
   ]
  },
  {
   "cell_type": "code",
   "execution_count": 77,
   "metadata": {},
   "outputs": [
    {
     "name": "stdout",
     "output_type": "stream",
     "text": [
      "(1, 2, 3, 4, 5)\n",
      "<class 'tuple'>\n",
      "(1, 2, 3, 4, 5)\n",
      "<class 'tuple'>\n",
      "(1, 2, 3, 4, 5)\n",
      "1\n",
      "2\n",
      "3\n",
      "4\n",
      "5\n",
      "0 1\n",
      "1 2\n",
      "2 3\n",
      "3 4\n",
      "4 5\n",
      "70\n"
     ]
    },
    {
     "ename": "TypeError",
     "evalue": "'tuple' object does not support item assignment",
     "output_type": "error",
     "traceback": [
      "\u001b[1;31m---------------------------------------------------------------------------\u001b[0m",
      "\u001b[1;31mTypeError\u001b[0m                                 Traceback (most recent call last)",
      "Input \u001b[1;32mIn [77]\u001b[0m, in \u001b[0;36m<cell line: 26>\u001b[1;34m()\u001b[0m\n\u001b[0;32m     22\u001b[0m \u001b[38;5;28mprint\u001b[39m(myTup[\u001b[38;5;241m2\u001b[39m])\n\u001b[0;32m     25\u001b[0m \u001b[38;5;66;03m### immutable - cannot change\u001b[39;00m\n\u001b[1;32m---> 26\u001b[0m myTup[\u001b[38;5;241m2\u001b[39m] \u001b[38;5;241m=\u001b[39m \u001b[38;5;241m100\u001b[39m\n",
      "\u001b[1;31mTypeError\u001b[0m: 'tuple' object does not support item assignment"
     ]
    }
   ],
   "source": [
    "tup1 = 1,2,3,4,5\n",
    "print(tup1)\n",
    "print(type(tup1))\n",
    "\n",
    "tup2 =(1,2,3,4,5)\n",
    "print(tup2)\n",
    "print(type(tup2))\n",
    "\n",
    "tup3=tuple([1,2,3,4,5])\n",
    "print(tup3)\n",
    "\n",
    "#loop through a tuple\n",
    "for num in tup1:\n",
    "    print(num)\n",
    "\n",
    "# loop through using index\n",
    "for index in range(len(tup1)):\n",
    "    print(index, tup1[index])\n",
    "    \n",
    "# you can index just the same\n",
    "myTup = (44, 55, 70, 88, 90, 14)\n",
    "print(myTup[2])\n",
    "\n",
    "\n",
    "# ### immutable - cannot change\n",
    "# myTup[2] = 100\n",
    "## you can do everything to a tuple like you can to an original list --- have all the same methods - \n",
    "# xp the ones that change/mutate the data structure\n"
   ]
  },
  {
   "cell_type": "markdown",
   "metadata": {},
   "source": [
    "##### sorted()"
   ]
  },
  {
   "cell_type": "code",
   "execution_count": 80,
   "metadata": {},
   "outputs": [
    {
     "name": "stdout",
     "output_type": "stream",
     "text": [
      "(20, 5, 1, 3, 9, 45)\n",
      "[1, 3, 5, 9, 20, 45]\n"
     ]
    }
   ],
   "source": [
    "tup_5 =(20, 5, 1,3,9,45)\n",
    "sorted_tup = sorted(tup_5)\n",
    "print(tup_5)\n",
    "print(sorted_tup)\n"
   ]
  },
  {
   "cell_type": "markdown",
   "metadata": {},
   "source": [
    "##### Adding values to a Tuple"
   ]
  },
  {
   "cell_type": "code",
   "execution_count": null,
   "metadata": {},
   "outputs": [],
   "source": []
  },
  {
   "cell_type": "markdown",
   "metadata": {},
   "source": [
    "## Functions"
   ]
  },
  {
   "cell_type": "markdown",
   "metadata": {},
   "source": [
    "##### User-Defined vs. Built-In Functions"
   ]
  },
  {
   "cell_type": "code",
   "execution_count": 83,
   "metadata": {},
   "outputs": [
    {
     "name": "stdout",
     "output_type": "stream",
     "text": [
      "hello world!\n"
     ]
    }
   ],
   "source": [
    "# userdefined function\n",
    "def sayHello():\n",
    "    return \"hello world!\"\n",
    "\n",
    "print(sayHello())"
   ]
  },
  {
   "cell_type": "markdown",
   "metadata": {},
   "source": [
    "##### Accepting Parameters"
   ]
  },
  {
   "cell_type": "code",
   "execution_count": 97,
   "metadata": {},
   "outputs": [
    {
     "name": "stdout",
     "output_type": "stream",
     "text": [
      "Hello francis pyon\n",
      "Hello pp pyon\n"
     ]
    }
   ],
   "source": [
    "# order matters \n",
    "# variable can be any type of obj\n",
    "def printFullName(first_name, last_name):\n",
    "    return \"Hello \" + first_name + ' ' + last_name\n",
    "\n",
    "print(printFullName(\"francis\", \"pyon\"))\n",
    "\n",
    "print(printFullName(\"pp\", \"pyon\"))"
   ]
  },
  {
   "cell_type": "markdown",
   "metadata": {},
   "source": [
    "##### Default Parameters"
   ]
  },
  {
   "cell_type": "code",
   "execution_count": 99,
   "metadata": {},
   "outputs": [
    {
     "name": "stdout",
     "output_type": "stream",
     "text": [
      "The name is Bond, ... James Bond\n",
      "The name is Sparrow, ... Jack Sparrow\n"
     ]
    }
   ],
   "source": [
    "# A DEFAULt arg parameter needs to be after a non-default parameter at all times\n",
    "\n",
    "def getSecretAgentName(first_name, last_name='Bond'):\n",
    "    return f\"The name is {last_name}, ... {first_name} {last_name}\"\n",
    "\n",
    "print(getSecretAgentName(\"James\"))\n",
    "print(getSecretAgentName(\"Jack\", \"Sparrow\"))"
   ]
  },
  {
   "cell_type": "markdown",
   "metadata": {},
   "source": [
    "##### Making an Argument Optional"
   ]
  },
  {
   "cell_type": "code",
   "execution_count": 106,
   "metadata": {},
   "outputs": [
    {
     "data": {
      "text/plain": [
       "'Hello Francis Charles the III'"
      ]
     },
     "execution_count": 106,
     "metadata": {},
     "output_type": "execute_result"
    }
   ],
   "source": [
    "def printTitleName(first, middle= ' ', last='Jr'):\n",
    "    return f'Hello {first} {middle} {last}'\n",
    "\n",
    "printTitleName(\"Francis\" , \"Charles\", \"the III\")"
   ]
  },
  {
   "cell_type": "markdown",
   "metadata": {},
   "source": [
    "##### Keyword Arguments"
   ]
  },
  {
   "cell_type": "code",
   "execution_count": 109,
   "metadata": {},
   "outputs": [
    {
     "name": "stdout",
     "output_type": "stream",
     "text": [
      "My name is Frankie and my power is flying and I wear a black cape\n",
      "My name is Frankie and my power is red and I wear a black cape\n",
      "My name is Frankie and my power is flying and I wear a red cape\n"
     ]
    }
   ],
   "source": [
    "# last_name='Max', first_name='Smith' in the function call\n",
    "def printSuperHeroName(name, power = 'flying', color = 'black'):\n",
    "    return f'My name is {name} and my power is {power} and I wear a {color} cape'\n",
    "\n",
    "print(printSuperHeroName('Frankie'))\n",
    "print(printSuperHeroName('Frankie', 'red'))\n",
    "print(printSuperHeroName('Frankie', color='red'))\n",
    "# see above"
   ]
  },
  {
   "cell_type": "markdown",
   "metadata": {},
   "source": [
    "# Creating a start, stop, step function"
   ]
  },
  {
   "cell_type": "code",
   "execution_count": 113,
   "metadata": {},
   "outputs": [
    {
     "ename": "UnboundLocalError",
     "evalue": "local variable 'output' referenced before assignment",
     "output_type": "error",
     "traceback": [
      "\u001b[1;31m---------------------------------------------------------------------------\u001b[0m",
      "\u001b[1;31mUnboundLocalError\u001b[0m                         Traceback (most recent call last)",
      "Input \u001b[1;32mIn [113]\u001b[0m, in \u001b[0;36m<cell line: 13>\u001b[1;34m()\u001b[0m\n\u001b[0;32m      9\u001b[0m         start \u001b[38;5;241m+\u001b[39m\u001b[38;5;241m=\u001b[39m step\n\u001b[0;32m     10\u001b[0m     \u001b[38;5;28;01mreturn\u001b[39;00m output\n\u001b[1;32m---> 13\u001b[0m \u001b[43mmyRange\u001b[49m\u001b[43m(\u001b[49m\u001b[38;5;241;43m20\u001b[39;49m\u001b[43m,\u001b[49m\u001b[43m \u001b[49m\u001b[38;5;241;43m10\u001b[39;49m\u001b[43m,\u001b[49m\u001b[43m \u001b[49m\u001b[38;5;241;43m5\u001b[39;49m\u001b[43m)\u001b[49m\n",
      "Input \u001b[1;32mIn [113]\u001b[0m, in \u001b[0;36mmyRange\u001b[1;34m(start, stop, step)\u001b[0m\n\u001b[0;32m      8\u001b[0m     output\u001b[38;5;241m.\u001b[39mappend(start)\n\u001b[0;32m      9\u001b[0m     start \u001b[38;5;241m+\u001b[39m\u001b[38;5;241m=\u001b[39m step\n\u001b[1;32m---> 10\u001b[0m \u001b[38;5;28;01mreturn\u001b[39;00m \u001b[43moutput\u001b[49m\n",
      "\u001b[1;31mUnboundLocalError\u001b[0m: local variable 'output' referenced before assignment"
     ]
    }
   ],
   "source": [
    "def myRange(start, stop=None, step=1):\n",
    "    if stop is None:\n",
    "        output = []\n",
    "        stop = start\n",
    "        start = 0\n",
    "        \n",
    "    while start<stop:\n",
    "        output.append(start)\n",
    "        start += step\n",
    "    return output\n",
    "    \n",
    "\n",
    "myRange(20)"
   ]
  },
  {
   "cell_type": "raw",
   "metadata": {},
   "source": []
  },
  {
   "cell_type": "markdown",
   "metadata": {},
   "source": [
    "##### Returning Values"
   ]
  },
  {
   "cell_type": "code",
   "execution_count": 116,
   "metadata": {},
   "outputs": [
    {
     "name": "stdout",
     "output_type": "stream",
     "text": [
      "4\n"
     ]
    }
   ],
   "source": [
    "def addNums(num1, num2):\n",
    "    return num1 +num2\n",
    "\n",
    "x=addNums(1,3)\n",
    "print(x)"
   ]
  },
  {
   "cell_type": "markdown",
   "metadata": {},
   "source": [
    "##### *args"
   ]
  },
  {
   "cell_type": "code",
   "execution_count": 127,
   "metadata": {},
   "outputs": [
    {
     "name": "stdout",
     "output_type": "stream",
     "text": [
      "1\n",
      "2 3 4 5 6 7 8 9\n"
     ]
    },
    {
     "ename": "TypeError",
     "evalue": "'color' is an invalid keyword argument for print()",
     "output_type": "error",
     "traceback": [
      "\u001b[1;31m---------------------------------------------------------------------------\u001b[0m",
      "\u001b[1;31mTypeError\u001b[0m                                 Traceback (most recent call last)",
      "Input \u001b[1;32mIn [127]\u001b[0m, in \u001b[0;36m<cell line: 16>\u001b[1;34m()\u001b[0m\n\u001b[0;32m     12\u001b[0m     \u001b[38;5;28;01mfor\u001b[39;00m key \u001b[38;5;129;01min\u001b[39;00m kwargs:\n\u001b[0;32m     13\u001b[0m         \u001b[38;5;28mprint\u001b[39m(key, kwargs[key])\n\u001b[1;32m---> 16\u001b[0m \u001b[43mprintArgs\u001b[49m\u001b[43m(\u001b[49m\u001b[38;5;241;43m1\u001b[39;49m\u001b[43m,\u001b[49m\u001b[38;5;241;43m2\u001b[39;49m\u001b[43m,\u001b[49m\u001b[38;5;241;43m3\u001b[39;49m\u001b[43m,\u001b[49m\u001b[38;5;241;43m4\u001b[39;49m\u001b[43m,\u001b[49m\u001b[38;5;241;43m5\u001b[39;49m\u001b[43m,\u001b[49m\u001b[38;5;241;43m6\u001b[39;49m\u001b[43m,\u001b[49m\u001b[38;5;241;43m7\u001b[39;49m\u001b[43m,\u001b[49m\u001b[38;5;241;43m8\u001b[39;49m\u001b[43m,\u001b[49m\u001b[38;5;241;43m9\u001b[39;49m\u001b[43m,\u001b[49m\u001b[43m \u001b[49m\u001b[43mcolor\u001b[49m\u001b[38;5;241;43m=\u001b[39;49m\u001b[38;5;124;43m'\u001b[39;49m\u001b[38;5;124;43mpp\u001b[39;49m\u001b[38;5;124;43m'\u001b[39;49m\u001b[43m)\u001b[49m\n",
      "Input \u001b[1;32mIn [127]\u001b[0m, in \u001b[0;36mprintArgs\u001b[1;34m(num1, *args, **kwargs)\u001b[0m\n\u001b[0;32m      6\u001b[0m \u001b[38;5;28mprint\u001b[39m(num1)\n\u001b[0;32m      7\u001b[0m \u001b[38;5;28mprint\u001b[39m(\u001b[38;5;241m*\u001b[39margs)\n\u001b[1;32m----> 8\u001b[0m \u001b[38;5;28mprint\u001b[39m(\u001b[38;5;241m*\u001b[39m\u001b[38;5;241m*\u001b[39mkwargs)\n\u001b[0;32m     10\u001b[0m \u001b[38;5;28;01mfor\u001b[39;00m arg \u001b[38;5;129;01min\u001b[39;00m args:\n\u001b[0;32m     11\u001b[0m     \u001b[38;5;28mprint\u001b[39m(arg)\n",
      "\u001b[1;31mTypeError\u001b[0m: 'color' is an invalid keyword argument for print()"
     ]
    }
   ],
   "source": [
    "### KWARGS (Keyword Arguments)\n",
    "## *args - takes in ANY number of Arguements - tuple - positional arguments\n",
    "## **KWARGS - takes in ANY number of KeyWord Arguments -- dictionary\n",
    "\n",
    "def printArgs(num1, *args, **kwargs):\n",
    "    print(num1)\n",
    "    print(*args)\n",
    "    print(**kwargs)\n",
    "    \n",
    "    for arg in args:\n",
    "        print(arg)\n",
    "    for key in kwargs:\n",
    "        print(key, kwargs[key])\n",
    "        \n",
    "        \n",
    "printArgs(1,2,3,4,5,6,7,8,9, color='pp')\n",
    "\n",
    "\n"
   ]
  },
  {
   "cell_type": "markdown",
   "metadata": {},
   "source": [
    "##### Docstring"
   ]
  },
  {
   "cell_type": "code",
   "execution_count": 132,
   "metadata": {},
   "outputs": [
    {
     "name": "stdout",
     "output_type": "stream",
     "text": [
      "['Bran', 'Max', 'Evan', 'Amanda', 'Rob']\n"
     ]
    },
    {
     "data": {
      "text/plain": [
       "'done'"
      ]
     },
     "execution_count": 132,
     "metadata": {},
     "output_type": "execute_result"
    }
   ],
   "source": [
    "## description of your function\n",
    "\n",
    "def printName(list_of_names):\n",
    "    \"\"\"\n",
    "    printName(list_of_names)\n",
    "    This function requires a list to be passed in as an argument. \n",
    "    It will print all the contents of the given list. This function\n",
    "    expects a list of names (strings) to be passed in.\n",
    "    \n",
    "    \"\"\"\n",
    "    \n",
    "    \n",
    "    for name in list_of_names:\n",
    "        print(names)\n",
    "        return \"done\"\n",
    "    \n",
    "printName(['John', 'Evan', 'Jordan', 'Max'])\n"
   ]
  },
  {
   "cell_type": "markdown",
   "metadata": {},
   "source": [
    "##### Using a User Function in a Loop"
   ]
  },
  {
   "cell_type": "code",
   "execution_count": 136,
   "metadata": {},
   "outputs": [
    {
     "ename": "NameError",
     "evalue": "name 'true' is not defined",
     "output_type": "error",
     "traceback": [
      "\u001b[1;31m---------------------------------------------------------------------------\u001b[0m",
      "\u001b[1;31mNameError\u001b[0m                                 Traceback (most recent call last)",
      "Input \u001b[1;32mIn [136]\u001b[0m, in \u001b[0;36m<cell line: 3>\u001b[1;34m()\u001b[0m\n\u001b[0;32m      1\u001b[0m \u001b[38;5;28;01mdef\u001b[39;00m \u001b[38;5;21mprintInput\u001b[39m(answer):\n\u001b[0;32m      2\u001b[0m     \u001b[38;5;28mprint\u001b[39m(answer)\n\u001b[1;32m----> 3\u001b[0m \u001b[38;5;28;01mwhile\u001b[39;00m \u001b[43mtrue\u001b[49m:\n\u001b[0;32m      4\u001b[0m     response \u001b[38;5;241m=\u001b[39m \u001b[38;5;28minput\u001b[39m(\u001b[38;5;124m\"\u001b[39m\u001b[38;5;124mWhat do you want to do?\u001b[39m\u001b[38;5;124m\"\u001b[39m)\n\u001b[0;32m      6\u001b[0m     printInput(response)\n",
      "\u001b[1;31mNameError\u001b[0m: name 'true' is not defined"
     ]
    }
   ],
   "source": [
    "def printInput(answer):\n",
    "    print(answer)\n",
    "while True:\n",
    "    response = input(\"What do you want to do?\")\n",
    "    \n",
    "    printInput(response)\n",
    "    \n",
    "    if response.lower() == 'quit':\n",
    "        break"
   ]
  },
  {
   "cell_type": "markdown",
   "metadata": {},
   "source": [
    "## Function Exercise <br>\n",
    "<p>Write a function that loops through a list of first_names and a list of last_names, combines the two and return a list of full_names</p>"
   ]
  },
  {
   "cell_type": "code",
   "execution_count": 148,
   "metadata": {},
   "outputs": [
    {
     "name": "stdout",
     "output_type": "stream",
     "text": [
      "['John Smith', 'Evan Smith', 'Jordan Williams', 'Max Bell']\n"
     ]
    }
   ],
   "source": [
    "first_name = ['John', 'Evan', 'Jordan', 'Max']\n",
    "last_name = ['Smith', 'Smith', 'Williams', 'Bell']\n",
    "\n",
    "def fullName(first_name, last_name):\n",
    "\n",
    "    list_of_names = []\n",
    "    for i in range(len(first_name)):\n",
    "        list_of_names.append(first_name[i] + \" \" + last_name[i])\n",
    "    return list_of_names\n",
    "\n",
    "print(fullName(first_name, last_name))\n",
    "\n"
   ]
  },
  {
   "cell_type": "markdown",
   "metadata": {},
   "source": [
    "## Scope <br>\n",
    "<p>Scope refers to the ability to access variables, different types of scope include:<br>a) Global<br>b) Function (local)<br>c) Class (local)</p>\n"
   ]
  },
  {
   "cell_type": "code",
   "execution_count": 121,
   "metadata": {},
   "outputs": [
    {
     "name": "stdout",
     "output_type": "stream",
     "text": [
      "6 outside\n",
      "6 inside\n"
     ]
    },
    {
     "data": {
      "text/plain": [
       "3"
      ]
     },
     "execution_count": 121,
     "metadata": {},
     "output_type": "execute_result"
    }
   ],
   "source": [
    "num9 = 6 # globalscope\n",
    "def myFunc(): #\n",
    "    frankie = 3 #function(local) Scope\n",
    "    print(num9,'inside')\n",
    "    return frankie\n",
    "\n",
    "\n",
    "print(num9, 'outside')\n",
    "myFunc()"
   ]
  },
  {
   "cell_type": "markdown",
   "metadata": {},
   "source": [
    "# Exercises"
   ]
  },
  {
   "cell_type": "markdown",
   "metadata": {},
   "source": [
    "## Exercise 1 <br>\n",
    "<p>Given a list as a parameter,write a function that returns a list of numbers that are less than ten</b></i></p><br>\n",
    "<p> For example: Say your input parameter to the function is [1,11,14,5,8,9]...Your output should [1,5,8,9]</p>"
   ]
  },
  {
   "cell_type": "code",
   "execution_count": 28,
   "metadata": {},
   "outputs": [
    {
     "name": "stdout",
     "output_type": "stream",
     "text": [
      "[1, 5, 8, 9] for-Loop\n",
      "[1, 5, 8, 9] comprehnsion\n"
     ]
    }
   ],
   "source": [
    "# Use the following list - [1,11,14,5,8,9]\n",
    "# create empty list\n",
    "    # iterate over list using the index\n",
    "    # if number @ index is < 10 \n",
    "    # append number @ index to new_list\n",
    "l_1 = [1,11,14,5,8,9]\n",
    "\n",
    "def smallerThan10():\n",
    "    new_list = []\n",
    "    for i in l_1:\n",
    "        if i < 10:\n",
    "            new_list.append(i)\n",
    "    return new_list\n",
    "    \n",
    "print(smallerThan10(), \"for-Loop\")\n",
    "\n",
    "# iterate over the list @ [i]\n",
    "# if number @ index (i) in l_1 \n",
    "# if i < 10 then append into smallerThan10_1\n",
    "def smallerThan10_1():\n",
    "    smallerThan10_1=[i for i in l_1 if i <10] \n",
    "    return smallerThan10_1\n",
    "print(smallerThan10_1(), \"comprehnsion\") "
   ]
  },
  {
   "cell_type": "markdown",
   "metadata": {},
   "source": [
    "## Exercise 2 <br>\n",
    "<p>Write a function that takes in two lists and returns the two lists merged together and sorted<br>\n",
    "<b><i>Hint: You can use the .sort() method</i></b></p>"
   ]
  },
  {
   "cell_type": "code",
   "execution_count": 7,
   "metadata": {},
   "outputs": [
    {
     "name": "stdout",
     "output_type": "stream",
     "text": [
      "[1, 2, 3, 3, 4, 4, 5, 5, 6, 6, 7, 8, 10]\n",
      "[1, 2, 3, 3, 4, 4, 5, 5, 6, 6, 7, 8, 10] append\n",
      "[1, 2, 3, 3, 3, 4, 4, 4, 5, 5, 5, 6, 6, 6, 7, 7, 8, 8, 10, 10] googled\n",
      "[1, 2, 3, 4, 5, 6, 7, 8, 10] for loop\n",
      "[1, 2, 3, 4, 5, 6, 7, 8, 10] listcomp\n"
     ]
    }
   ],
   "source": [
    "l_1 = [1,2,3,4,5,6]\n",
    "l_2 = [3,4,5,6,7,8,10]\n",
    "# bruteforce method\n",
    "# create new list = combine l1&l2\n",
    "    # sort new list\n",
    "    # return new list \n",
    "def merge():\n",
    "    final_list = l_1 + l_2\n",
    "    final_list.sort()\n",
    "    return final_list\n",
    "print(merge())\n",
    "\n",
    "## append() method w/for loop\n",
    "def merge():\n",
    "  for i in l_2:\n",
    "    l_1.append(i)\n",
    "    l_1.sort()\n",
    "\n",
    "  return l_1\n",
    "\n",
    "print(merge() , \"append\")\n",
    "\n",
    "## googled how to do this one - List Comprehension -\n",
    "# def listMerge():\n",
    "#   l_1 = [1,2,3,4,5,6]\n",
    "#   l_2 = [3,4,5,6,7,8,10]\n",
    "#   newList = [ y in i [l_1, l_2] for y in x]\n",
    "#   newList.sort()\n",
    "  \n",
    "\n",
    "#   return newList\n",
    "\n",
    "# print(listMerge(), 'hello')\n",
    "\n",
    "\n",
    "## extend() method -- i googled this one -- no idea why it's extnding 2x when i run the code all together\n",
    "def merger():\n",
    "  l_1.extend(l_2)\n",
    "  l_1.sort()\n",
    "  return l_1\n",
    "print(merger(), 'googled')\n",
    "\n",
    "\n",
    "def noDupes():\n",
    "  no_dupes = []\n",
    "  for i in merge():\n",
    "    if i not in no_dupes:\n",
    "      no_dupes.append(i)\n",
    "  return no_dupes\n",
    "  \n",
    "print(noDupes(), \"for loop\")\n",
    "\n",
    "## list comprehension ##\n",
    "\n",
    "def noDupes():\n",
    "  no_dupes =[]\n",
    "  [no_dupes.append(i) for i in merge() if i not in no_dupes]\n",
    "  return no_dupes\n",
    "print(noDupes(), \"listcomp\")"
   ]
  }
 ],
 "metadata": {
  "kernelspec": {
   "display_name": "Python 3 (ipykernel)",
   "language": "python",
   "name": "python3"
  },
  "language_info": {
   "codemirror_mode": {
    "name": "ipython",
    "version": 3
   },
   "file_extension": ".py",
   "mimetype": "text/x-python",
   "name": "python",
   "nbconvert_exporter": "python",
   "pygments_lexer": "ipython3",
   "version": "3.9.11"
  }
 },
 "nbformat": 4,
 "nbformat_minor": 2
}
